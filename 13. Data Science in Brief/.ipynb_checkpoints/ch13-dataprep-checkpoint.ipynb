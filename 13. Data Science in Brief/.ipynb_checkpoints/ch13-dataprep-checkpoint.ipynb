{
 "cells": [
  {
   "cell_type": "code",
   "execution_count": 9,
   "id": "26f7663f",
   "metadata": {},
   "outputs": [],
   "source": [
    "# 1\n",
    "import json\n",
    "import random\n",
    "from datetime import date, timedelta\n",
    "import faker\n"
   ]
  },
  {
   "cell_type": "code",
   "execution_count": 10,
   "id": "8130d2db",
   "metadata": {},
   "outputs": [],
   "source": [
    "# 2\n",
    "fake = faker.Faker()"
   ]
  },
  {
   "cell_type": "code",
   "execution_count": 11,
   "id": "ed6f5632",
   "metadata": {},
   "outputs": [],
   "source": [
    "# 3\n",
    "usernames = set()\n",
    "usernames_no = 1000\n",
    "\n",
    "# populate the set with 1,000 unique usernames\n",
    "while len(usernames) < usernames_no:\n",
    "    usernames.add(fake.user_name())"
   ]
  },
  {
   "cell_type": "code",
   "execution_count": 16,
   "id": "fc2820b8",
   "metadata": {},
   "outputs": [
    {
     "data": {
      "text/plain": [
       "['{\"username\": \"brandon96\", \"name\": \"Jordan Williams\", \"gender\": \"M\", \"email\": \"randallowens@example.org\", \"age\": 71, \"address\": \"7271 Sawyer Pass Apt. 285\\\\nSouth Robertfort, WI 04736\"}',\n",
       " '{\"username\": \"mcclurejames\", \"name\": \"Amanda Martin\", \"gender\": \"F\", \"email\": \"shannonjenkins@example.net\", \"age\": 56, \"address\": \"1048 Peter Junctions Suite 308\\\\nNorth Michael, MA 33353\"}',\n",
       " '{\"username\": \"eleonard\", \"name\": \"Cassandra Moore\", \"gender\": \"F\", \"email\": \"laurahayes@example.com\", \"age\": 36, \"address\": \"3240 Andrew Row\\\\nNew Joyceton, PA 98381\"}']"
      ]
     },
     "execution_count": 16,
     "metadata": {},
     "output_type": "execute_result"
    }
   ],
   "source": [
    "# 4\n",
    "def get_random_name_and_gender():\n",
    "    skew = .6 # 60% of users will be female\n",
    "    male = random.random() > skew\n",
    "    if male:\n",
    "        return fake.name_male(), 'M'\n",
    "    else:\n",
    "        return fake.name_female(), 'F'\n",
    "\n",
    "def get_users(usernames):\n",
    "    users = []\n",
    "    for username in usernames:\n",
    "        name, gender = get_random_name_and_gender()\n",
    "        user = {\n",
    "            'username': username,\n",
    "            'name': name,\n",
    "            'gender': gender,\n",
    "            'email': fake.email(),\n",
    "            'age': fake.random_int(min = 18, max = 90),\n",
    "            'address': fake.address()\n",
    "        }\n",
    "        users.append(json.dumps(user))\n",
    "    return users\n",
    "\n",
    "users = get_users(usernames)\n",
    "users[:3]"
   ]
  },
  {
   "cell_type": "code",
   "execution_count": 28,
   "id": "0507c6ac",
   "metadata": {},
   "outputs": [],
   "source": [
    "# 5\n",
    "# campaign name format:\n",
    "# InternalType_StartDate_EndDate_TargetAge_TargetGender_Currency\n",
    "def get_type():\n",
    "    # just some gibberish internal codes\n",
    "    types = ['AKX', 'BYU', 'GRZ', 'KTR']\n",
    "    return random.choice(types)\n",
    "\n",
    "def get_start_end_dates():\n",
    "    duration = random.randint(1, 2 * 365)\n",
    "    offset = random.randint(-365, 365)\n",
    "    start = date.today() - timedelta(days = offset)\n",
    "    end = start + timedelta(days = duration)\n",
    "    \n",
    "    def _format_date(date_):\n",
    "        return date_.strftime('%Y%m%d')\n",
    "    return _format_date(start), _format_date(end)\n",
    "\n",
    "def get_age():\n",
    "    age = random.randrange(20, 46, 5)\n",
    "    diff = random.randrange(5, 26, 5)\n",
    "    return '{}-{}'.format(age, age + diff)\n",
    "\n",
    "def get_gender():\n",
    "    return random.choice(('M', 'F', 'B'))\n",
    "\n",
    "def get_currency():\n",
    "    return random.choice(('GBP', 'EUR', 'USD'))\n",
    "\n",
    "def get_campaign_name():\n",
    "    separator = '_'\n",
    "    type_ = get_type()\n",
    "    start, end = get_start_end_dates()\n",
    "    age = get_age()\n",
    "    gender = get_gender()\n",
    "    currency = get_currency()\n",
    "    return separator.join((\n",
    "        type_,\n",
    "        start,\n",
    "        end,\n",
    "        age,\n",
    "        gender,\n",
    "        currency\n",
    "    ))"
   ]
  },
  {
   "cell_type": "code",
   "execution_count": 29,
   "id": "449d3c54",
   "metadata": {},
   "outputs": [],
   "source": [
    "# 6\n",
    "# campaign data:\n",
    "# name, budget, spent, clicks, impressions\n",
    "def get_campaign_data():\n",
    "    name = get_campaign_name()\n",
    "    budget = random.randint(10 ** 3, 10 ** 6)\n",
    "    spent = random.randint(10 ** 2, budget)\n",
    "    clicks = int(random.triangular(10 ** 2, 10 ** 5, 0.2 * 10 ** 5))\n",
    "    impressions = int(random.gauss(0.5 * 10 ** 6, 2))\n",
    "    return {\n",
    "        'cmp_name': name,\n",
    "        'cmp_bgt': budget,\n",
    "        'cmp_spent': spent,\n",
    "        'cmp_clicks': clicks,\n",
    "        'cmp_impr': impressions\n",
    "    }"
   ]
  },
  {
   "cell_type": "code",
   "execution_count": 30,
   "id": "e8e60c87",
   "metadata": {},
   "outputs": [],
   "source": [
    "# 7\n",
    "def get_data(users):\n",
    "    data = []\n",
    "    for user in users:\n",
    "        campaigns = [\n",
    "            get_campaign_data()\n",
    "                for _ in range(random.randint(2, 8))\n",
    "        ]\n",
    "        data.append({'user': user, 'campaigns': campaigns})\n",
    "    return data"
   ]
  },
  {
   "cell_type": "code",
   "execution_count": 31,
   "id": "3f2ba5e6",
   "metadata": {},
   "outputs": [
    {
     "data": {
      "text/plain": [
       "[{'user': '{\"username\": \"brandon96\", \"name\": \"Jordan Williams\", \"gender\": \"M\", \"email\": \"randallowens@example.org\", \"age\": 71, \"address\": \"7271 Sawyer Pass Apt. 285\\\\nSouth Robertfort, WI 04736\"}',\n",
       "  'campaigns': [{'cmp_name': 'GRZ_20220910_20230425_35-55_B_EUR',\n",
       "    'cmp_bgt': 695129,\n",
       "    'cmp_spent': 206593,\n",
       "    'cmp_clicks': 14715,\n",
       "    'cmp_impr': 499998},\n",
       "   {'cmp_name': 'KTR_20230613_20240109_20-40_B_USD',\n",
       "    'cmp_bgt': 607601,\n",
       "    'cmp_spent': 584645,\n",
       "    'cmp_clicks': 53790,\n",
       "    'cmp_impr': 499999},\n",
       "   {'cmp_name': 'BYU_20230818_20230909_40-65_F_GBP',\n",
       "    'cmp_bgt': 644070,\n",
       "    'cmp_spent': 621204,\n",
       "    'cmp_clicks': 42683,\n",
       "    'cmp_impr': 500000},\n",
       "   {'cmp_name': 'AKX_20230727_20240927_30-45_M_USD',\n",
       "    'cmp_bgt': 954145,\n",
       "    'cmp_spent': 72526,\n",
       "    'cmp_clicks': 10006,\n",
       "    'cmp_impr': 499997},\n",
       "   {'cmp_name': 'BYU_20240316_20240922_35-40_B_EUR',\n",
       "    'cmp_bgt': 175435,\n",
       "    'cmp_spent': 79039,\n",
       "    'cmp_clicks': 13667,\n",
       "    'cmp_impr': 500001}]},\n",
       " {'user': '{\"username\": \"mcclurejames\", \"name\": \"Amanda Martin\", \"gender\": \"F\", \"email\": \"shannonjenkins@example.net\", \"age\": 56, \"address\": \"1048 Peter Junctions Suite 308\\\\nNorth Michael, MA 33353\"}',\n",
       "  'campaigns': [{'cmp_name': 'BYU_20230913_20240726_20-25_M_USD',\n",
       "    'cmp_bgt': 136051,\n",
       "    'cmp_spent': 119364,\n",
       "    'cmp_clicks': 16829,\n",
       "    'cmp_impr': 500001},\n",
       "   {'cmp_name': 'AKX_20230826_20240710_40-55_B_GBP',\n",
       "    'cmp_bgt': 43579,\n",
       "    'cmp_spent': 37415,\n",
       "    'cmp_clicks': 29053,\n",
       "    'cmp_impr': 500001},\n",
       "   {'cmp_name': 'KTR_20221114_20230206_45-60_B_EUR',\n",
       "    'cmp_bgt': 33255,\n",
       "    'cmp_spent': 20410,\n",
       "    'cmp_clicks': 55098,\n",
       "    'cmp_impr': 499999},\n",
       "   {'cmp_name': 'GRZ_20230717_20230812_45-55_M_GBP',\n",
       "    'cmp_bgt': 419716,\n",
       "    'cmp_spent': 26707,\n",
       "    'cmp_clicks': 47562,\n",
       "    'cmp_impr': 500000}]}]"
      ]
     },
     "execution_count": 31,
     "metadata": {},
     "output_type": "execute_result"
    }
   ],
   "source": [
    "# 8\n",
    "rough_data = get_data(users)\n",
    "rough_data[:2] # let's take a peek"
   ]
  },
  {
   "cell_type": "code",
   "execution_count": 32,
   "id": "a6b2ab80",
   "metadata": {},
   "outputs": [
    {
     "data": {
      "text/plain": [
       "[{'cmp_name': 'GRZ_20220910_20230425_35-55_B_EUR',\n",
       "  'cmp_bgt': 695129,\n",
       "  'cmp_spent': 206593,\n",
       "  'cmp_clicks': 14715,\n",
       "  'cmp_impr': 499998,\n",
       "  'user': '{\"username\": \"brandon96\", \"name\": \"Jordan Williams\", \"gender\": \"M\", \"email\": \"randallowens@example.org\", \"age\": 71, \"address\": \"7271 Sawyer Pass Apt. 285\\\\nSouth Robertfort, WI 04736\"}'},\n",
       " {'cmp_name': 'KTR_20230613_20240109_20-40_B_USD',\n",
       "  'cmp_bgt': 607601,\n",
       "  'cmp_spent': 584645,\n",
       "  'cmp_clicks': 53790,\n",
       "  'cmp_impr': 499999,\n",
       "  'user': '{\"username\": \"brandon96\", \"name\": \"Jordan Williams\", \"gender\": \"M\", \"email\": \"randallowens@example.org\", \"age\": 71, \"address\": \"7271 Sawyer Pass Apt. 285\\\\nSouth Robertfort, WI 04736\"}'}]"
      ]
     },
     "execution_count": 32,
     "metadata": {},
     "output_type": "execute_result"
    }
   ],
   "source": [
    "# 9\n",
    "data = []\n",
    "for datum in rough_data:\n",
    "    for campaign in datum['campaigns']:\n",
    "        campaign.update({'user': datum['user']})\n",
    "        data.append(campaign)\n",
    "data[:2] # let's take another peek"
   ]
  },
  {
   "cell_type": "code",
   "execution_count": null,
   "id": "2d402ad1",
   "metadata": {},
   "outputs": [],
   "source": [
    "# 10\n",
    "with open('data.json', 'w') as stream:\n",
    "    stream.write(json.dumps(data))"
   ]
  }
 ],
 "metadata": {
  "kernelspec": {
   "display_name": "Python 3 (ipykernel)",
   "language": "python",
   "name": "python3"
  },
  "language_info": {
   "codemirror_mode": {
    "name": "ipython",
    "version": 3
   },
   "file_extension": ".py",
   "mimetype": "text/x-python",
   "name": "python",
   "nbconvert_exporter": "python",
   "pygments_lexer": "ipython3",
   "version": "3.11.3"
  }
 },
 "nbformat": 4,
 "nbformat_minor": 5
}
